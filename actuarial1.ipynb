{
 "cells": [
  {
   "cell_type": "markdown",
   "id": "af3d0b63",
   "metadata": {},
   "source": [
    "## Effective Rate of Interest or Discount"
   ]
  },
  {
   "cell_type": "code",
   "execution_count": null,
   "id": "c74438ef",
   "metadata": {},
   "outputs": [
    {
     "name": "stdout",
     "output_type": "stream",
     "text": [
      "The Accumulated money you will pay/assure after 20.0 years is $1645.33, your premium was $500.0 and interest per annum was 6.0%. You will have to pay or be assured 3 times every year.        \n",
      "The Amount of interest you will get is $1145.33.\n"
     ]
    }
   ],
   "source": [
    "def a_simple(i, n):\n",
    "    return (1 + n * i / 100)\n",
    "\n",
    "def a_compound(i, n):\n",
    "    return (1 + i / 100) ** n\n",
    "\n",
    "iord = input(\"Effective rate of Interest (i) or Discount (d): \")\n",
    "\n",
    "\n",
    "if iord.lower() == \"d\":\n",
    "    d = float(input(\"Enter the annual discount (in %): \"))/100\n",
    "    i = (d / (1-d))*100\n",
    "elif iord.lower() == \"i\":\n",
    "    i = float(input(\"Enter the annual interest (in %): \"))\n",
    "else:\n",
    "    print(\"Invalid input! Try again.\")\n",
    "    exit()\n",
    "\n",
    "\n",
    "n = float(input(\"Enter the Period (years): \"))\n",
    "\n",
    "# Ask if it's a nominal rate\n",
    "nom = input(\"Is this a nominal rate of interest (Yes or No): \")\n",
    "\n",
    "if nom.lower() == \"yes\":\n",
    "    m_case = input(\"Quarterly(Q) or semi-annually(S): \")\n",
    "    if m_case.lower() == 'q':\n",
    "        m = 4\n",
    "    elif m_case.lower() == 's':\n",
    "        m = 2\n",
    "    else:\n",
    "        print(\"Invalid input! Try again.\")\n",
    "        exit()\n",
    "\n",
    "    k = float(input(\"Enter the Premium or the money invested/borrowed (in USD): \"))\n",
    "    a_type = input('Enter if the interest will be either \"Simple\"(S) or \"Compound\"(C): ')\n",
    "\n",
    "    if a_type.lower() == \"s\":\n",
    "        a = a_simple(i / m, n * m)\n",
    "    elif a_type.lower() == \"c\":\n",
    "        a = a_compound(i / m, n * m)\n",
    "    else:\n",
    "        print(\"Invalid input! Try again.\")\n",
    "        exit()\n",
    "\n",
    "    def A(k, a):\n",
    "        return k * a\n",
    "\n",
    "    print(f\"The Accumulated money you will pay/assure after {n} years is ${A(k, a):.2f}, your premium was ${k} and interest per annum was {i:.2f}%. \\\n",
    "        \\nYou will have to pay or be assured {12/m:.0f} times every year.\\\n",
    "        \\nThe Amount of interest you will get is ${(A(k, a)-k):.2f}.\")\n",
    "\n",
    "elif nom.lower() == \"no\":\n",
    "    k = float(input(\"Enter the Premium or the money invested/borrowed (in USD): \"))\n",
    "    a_type = input('Enter if the interest will be either \"Simple\"(S) or \"Compound\"(C): ')\n",
    "\n",
    "    if a_type.lower() == \"s\":\n",
    "        a = a_simple(i, n)\n",
    "    elif a_type.lower() == \"c\":\n",
    "        a = a_compound(i, n)\n",
    "    else:\n",
    "        print(\"Invalid input! Try again.\")\n",
    "        exit()\n",
    "\n",
    "    def A(k, a):\n",
    "        return k * a\n",
    "\n",
    "    print(f\"The Accumulated money you will pay/assure after {n} years is ${A(k, a):.2f}, your premium was ${k} and interest per annum was {i:.2f}%.\\\n",
    "        \\nThe Amount of interest you will get is ${(A(k, a)-k):.2f}.\")\n",
    "\n",
    "else:\n",
    "    print(\"Invalid input! Try again.\")\n",
    "    exit()\n",
    "\n"
   ]
  }
 ],
 "metadata": {
  "kernelspec": {
   "display_name": "Python 3",
   "language": "python",
   "name": "python3"
  },
  "language_info": {
   "codemirror_mode": {
    "name": "ipython",
    "version": 3
   },
   "file_extension": ".py",
   "mimetype": "text/x-python",
   "name": "python",
   "nbconvert_exporter": "python",
   "pygments_lexer": "ipython3",
   "version": "3.12.9"
  }
 },
 "nbformat": 4,
 "nbformat_minor": 5
}
